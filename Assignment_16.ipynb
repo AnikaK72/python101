{
  "nbformat": 4,
  "nbformat_minor": 0,
  "metadata": {
    "colab": {
      "provenance": [],
      "authorship_tag": "ABX9TyPLTYsXOb8tVl2Dod7x+mex",
      "include_colab_link": true
    },
    "kernelspec": {
      "name": "python3",
      "display_name": "Python 3"
    },
    "language_info": {
      "name": "python"
    }
  },
  "cells": [
    {
      "cell_type": "markdown",
      "metadata": {
        "id": "view-in-github",
        "colab_type": "text"
      },
      "source": [
        "<a href=\"https://colab.research.google.com/github/AnikaK72/python101/blob/main/Assignment_16.ipynb\" target=\"_parent\"><img src=\"https://colab.research.google.com/assets/colab-badge.svg\" alt=\"Open In Colab\"/></a>"
      ]
    },
    {
      "cell_type": "code",
      "execution_count": null,
      "metadata": {
        "id": "Y0Gr3V-9Oh6G"
      },
      "outputs": [],
      "source": [
        "with open('/gasprices.txt', 'r') as file1: \n",
        "    with open('/goldilocks.txt', 'r') as file2: \n",
        "        same = set(file1).intersection(file2) \n",
        " \n",
        "same.discard('\\n') \n",
        " \n",
        "for line in same: \n",
        "        print(line)\n",
        "\n",
        "with open('/gasprices.txt', 'r') as file1: \n",
        "    with open('/goldilocks.txt', 'r') as file2: \n",
        "        different = set(file1).union(file2) \n",
        "\n",
        "different.discard('\\n') \n",
        " \n",
        "for line in different: \n",
        "        print(line)"
      ]
    }
  ]
}