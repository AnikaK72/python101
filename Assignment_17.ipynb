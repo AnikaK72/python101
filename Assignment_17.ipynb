{
  "nbformat": 4,
  "nbformat_minor": 0,
  "metadata": {
    "colab": {
      "provenance": [],
      "authorship_tag": "ABX9TyM34R/CQoaEhxgQS1AADsdn",
      "include_colab_link": true
    },
    "kernelspec": {
      "name": "python3",
      "display_name": "Python 3"
    },
    "language_info": {
      "name": "python"
    }
  },
  "cells": [
    {
      "cell_type": "markdown",
      "metadata": {
        "id": "view-in-github",
        "colab_type": "text"
      },
      "source": [
        "<a href=\"https://colab.research.google.com/github/AnikaK72/python101/blob/main/Assignment_17.ipynb\" target=\"_parent\"><img src=\"https://colab.research.google.com/assets/colab-badge.svg\" alt=\"Open In Colab\"/></a>"
      ]
    },
    {
      "cell_type": "code",
      "execution_count": 6,
      "metadata": {
        "id": "ycv5Oe1wGy6K",
        "colab": {
          "base_uri": "https://localhost:8080/"
        },
        "outputId": "ad1489f9-2bda-4ee4-dff9-687982f26b56"
      },
      "outputs": [
        {
          "output_type": "stream",
          "name": "stdout",
          "text": [
            "Cake 6\n",
            "Frosting 3\n",
            "Chocolate 3\n",
            "Vanilla 2\n",
            "Marble 1\n",
            "with 1\n"
          ]
        }
      ],
      "source": [
        "text = \"Cake.txt\"\n",
        "with open(text) as file_obj:\n",
        "  dict = {'Cake': 6,\n",
        "          'Frosting' : 3,\n",
        "          'Chocolate' : 3,\n",
        "          'Vanilla' : 2,\n",
        "          'Marble' : 1,\n",
        "          'with' : 1}\n",
        "for key, value in dict.items():\n",
        "  print(key, value)"
      ]
    }
  ]
}