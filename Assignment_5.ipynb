{
  "nbformat": 4,
  "nbformat_minor": 0,
  "metadata": {
    "colab": {
      "provenance": [],
      "authorship_tag": "ABX9TyNhB5GkcOQlrVgzRDqXkQyb",
      "include_colab_link": true
    },
    "kernelspec": {
      "name": "python3",
      "display_name": "Python 3"
    },
    "language_info": {
      "name": "python"
    }
  },
  "cells": [
    {
      "cell_type": "markdown",
      "metadata": {
        "id": "view-in-github",
        "colab_type": "text"
      },
      "source": [
        "<a href=\"https://colab.research.google.com/github/AnikaK72/python101/blob/main/Assignment_5.ipynb\" target=\"_parent\"><img src=\"https://colab.research.google.com/assets/colab-badge.svg\" alt=\"Open In Colab\"/></a>"
      ]
    },
    {
      "cell_type": "code",
      "execution_count": null,
      "metadata": {
        "id": "akM2c5W6UJ8C"
      },
      "outputs": [],
      "source": [
        "###################\n",
        "##Assignment 5.1###\n",
        "###################\n",
        "\n",
        "total_expenses = 0\n",
        "expenses = 1\n",
        "budget = int (input (\"Enter you budget for this month: \") )\n",
        "\n",
        "while expenses > 0:\n",
        "  expenses = int (input (\"Enter the expense of an item (or 0 to terminate): \"))\n",
        "  if expenses != 0:\n",
        "    total_expenses = expenses + total_expenses\n",
        "    remainder = budget - total_expenses\n",
        "\n",
        "if (remainder > 0):\n",
        "  print (\"The amount you have saved is $\", remainder)\n",
        "\n",
        "elif (remainder < 0):\n",
        "  print (\"The amount you are over the budget is $\", remainder*-1)\n",
        "\n",
        "elif (remainder == 0):\n",
        "  print (\"You have spent all of money allowed\")"
      ]
    },
    {
      "cell_type": "code",
      "source": [
        "###################\n",
        "##Assignment 5.2###\n",
        "###################\n",
        "\n",
        "budget = input(\"Enter the Budget allocated for a month : \")\n",
        "budget = int (budget)\n",
        "\n",
        "num_item = input(\"Enter the number of items purchased : \")\n",
        "num_item = int(num_item)\n",
        "total_price = 0\n",
        "item=1\n",
        "\n",
        "while True:\n",
        "    price = input(\"Enter amount for the item purchased (or 0 to signal end) : \")\n",
        "    price = float(price)\n",
        "    if ( price == 0 ):\n",
        "      break\n",
        "    print ( \"Item\",item,\"   \",price)\n",
        "    item = item + 1\n",
        "    total_price = total_price + price\n",
        "    \n",
        "\n",
        "if ( total_price < budget ):\n",
        "    total_price = total_price - budget\n",
        "    print(\"You are under your budget by \", total_price )\n",
        "elif ( total_price == budget ):\n",
        "    total_price = total_price - budget\n",
        "    print (\"You have evened out on budget \", total_price)\n",
        "else:\n",
        "    total_price = total_price - budget\n",
        "    print(\"You are over the budget by \", total_price)"
      ],
      "metadata": {
        "id": "t6_9QZFOUkpV"
      },
      "execution_count": null,
      "outputs": []
    },
    {
      "cell_type": "code",
      "source": [
        "###################\n",
        "##Assignment 5.3###\n",
        "###################\n",
        "\n",
        "import random \n",
        "\n",
        "[ ]\n",
        "\n",
        "while True:\n",
        "  random1 = random.randint(1,10)\n",
        "  random2 = random.randint(1,10)\n",
        "\n",
        "  if (random1 == random2):\n",
        "    print (\"Skip because numbers are equal\")\n",
        "    continue\n",
        "  elif ( random1 + random2 == 10 ):\n",
        "    print (\"Your code is over because the sum of both numbers is 10\")\n",
        "    break\n",
        "  else:\n",
        "    print (random1, \"+\", random2, \"=\", random1 + random2)\n",
        "\n",
        "\n"
      ],
      "metadata": {
        "id": "E57CYBnTXNah",
        "colab": {
          "base_uri": "https://localhost:8080/"
        },
        "outputId": "3668d5ad-16f4-4344-fc6d-56a6e6122a15"
      },
      "execution_count": 5,
      "outputs": [
        {
          "output_type": "stream",
          "name": "stdout",
          "text": [
            "8 + 6 = 14\n",
            "9 + 3 = 12\n",
            "Your code is over because the sum of both numbers is 10\n"
          ]
        }
      ]
    }
  ]
}