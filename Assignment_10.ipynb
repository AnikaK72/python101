{
  "nbformat": 4,
  "nbformat_minor": 0,
  "metadata": {
    "colab": {
      "provenance": [],
      "toc_visible": true,
      "include_colab_link": true
    },
    "kernelspec": {
      "name": "python3",
      "display_name": "Python 3"
    },
    "language_info": {
      "name": "python"
    }
  },
  "cells": [
    {
      "cell_type": "markdown",
      "metadata": {
        "id": "view-in-github",
        "colab_type": "text"
      },
      "source": [
        "<a href=\"https://colab.research.google.com/github/AnikaK72/python101/blob/main/Assignment_10.ipynb\" target=\"_parent\"><img src=\"https://colab.research.google.com/assets/colab-badge.svg\" alt=\"Open In Colab\"/></a>"
      ]
    },
    {
      "cell_type": "code",
      "source": [
        "#@title 1.Creating an empty list\n",
        "x = []\n",
        "print (x)\n",
        "print (\"Length of this list:\", len(x))"
      ],
      "metadata": {
        "id": "4GnRakGpUz8V",
        "colab": {
          "base_uri": "https://localhost:8080/"
        },
        "outputId": "5d75b5b4-58e5-4728-b1bf-eca52b257243"
      },
      "execution_count": 1,
      "outputs": [
        {
          "output_type": "stream",
          "name": "stdout",
          "text": [
            "[]\n",
            "Length of this list: 0\n"
          ]
        }
      ]
    },
    {
      "cell_type": "code",
      "source": [
        "#@title 2.Creating a list with some elements\n",
        "x = [10, 20, 40]\n",
        "print(x)"
      ],
      "metadata": {
        "id": "uCm9yPLDU0O0",
        "colab": {
          "base_uri": "https://localhost:8080/"
        },
        "outputId": "6c911ae2-f033-44be-d79e-060c2fa4d3be"
      },
      "execution_count": 2,
      "outputs": [
        {
          "output_type": "stream",
          "name": "stdout",
          "text": [
            "[10, 20, 40]\n"
          ]
        }
      ]
    },
    {
      "cell_type": "code",
      "source": [
        "#@title 3.Adding elements at the end\n",
        "x = [10, 20, 40]\n",
        "x.append(12)\n",
        "print(x)"
      ],
      "metadata": {
        "id": "rEpmqm7MU0Si",
        "colab": {
          "base_uri": "https://localhost:8080/"
        },
        "outputId": "19efaca2-4e02-41d8-d8f7-1662d1febabb"
      },
      "execution_count": 3,
      "outputs": [
        {
          "output_type": "stream",
          "name": "stdout",
          "text": [
            "[10, 20, 40, 12]\n"
          ]
        }
      ]
    },
    {
      "cell_type": "code",
      "source": [
        "#@title 4.Accessing an element (positive index)\n",
        "# also known as \"Reading an element\"\n",
        "# also known as \"Setting an element\"\n",
        "first = x[0]\n",
        "print (\"First element:\", first)\n",
        "fourth = x[3]\n",
        "print (\"Fourth element:\", fourth)"
      ],
      "metadata": {
        "id": "AMTpZsLMU0Vr",
        "colab": {
          "base_uri": "https://localhost:8080/"
        },
        "outputId": "497afcf0-af50-426b-9cac-6645432bcfbc"
      },
      "execution_count": 5,
      "outputs": [
        {
          "output_type": "stream",
          "name": "stdout",
          "text": [
            "First element: 10\n",
            "Fourth element: 12\n"
          ]
        }
      ]
    },
    {
      "cell_type": "code",
      "source": [
        "#@title 5.Accessing an element (through Negative Indexing)\n",
        "# also known as \"Reading an element\"\n",
        "# also known as \"Setting an element\"\n",
        "x = [4, 19, 10, 33, 'yellow']\n",
        "count = len(x)\n",
        "last_element = x[count-1]\n",
        "print(\"Last element is \", last_element)"
      ],
      "metadata": {
        "id": "VWaPKymnXdtx"
      },
      "execution_count": null,
      "outputs": []
    },
    {
      "cell_type": "code",
      "source": [
        "#@title 6.Adding an element at the front of the list\n",
        "my_list = [7, 12, 72]\n",
        "print(my_list)\n",
        "my_list.insert(10, 3)\n",
        "print(my_list)"
      ],
      "metadata": {
        "id": "dSKr5_20U0YS",
        "colab": {
          "base_uri": "https://localhost:8080/"
        },
        "outputId": "667851c1-3702-4999-dfdb-5dc76ed53da7"
      },
      "execution_count": 12,
      "outputs": [
        {
          "output_type": "stream",
          "name": "stdout",
          "text": [
            "[7, 12, 72]\n",
            "[7, 12, 72, 3]\n"
          ]
        }
      ]
    },
    {
      "cell_type": "code",
      "source": [
        "#@title 7.Adding an element anywhere (at a specific index) \n",
        "my_list = [25, 24, 23]\n",
        "print(my_list)\n",
        "my_list.insert(23, 12)\n",
        "print(my_list)"
      ],
      "metadata": {
        "id": "jvMJf2-2U0bM",
        "colab": {
          "base_uri": "https://localhost:8080/"
        },
        "outputId": "3c932b48-a896-4ea4-848c-8b5a9bacd618"
      },
      "execution_count": 16,
      "outputs": [
        {
          "output_type": "stream",
          "name": "stdout",
          "text": [
            "[25, 24, 23]\n",
            "[25, 24, 23, 12]\n"
          ]
        }
      ]
    },
    {
      "cell_type": "code",
      "source": [
        "#@title 8.Updating (or Replacing) an element\n",
        "my_list = [25, 24, 23]\n",
        "print(my_list)\n",
        "my_list[1] = 10\n",
        "print(my_list)\n",
        "my_list[0] = 'python'\n",
        "print(my_list)"
      ],
      "metadata": {
        "id": "DUG9xlraaTlO",
        "colab": {
          "base_uri": "https://localhost:8080/"
        },
        "outputId": "57710e23-3cda-4bf9-848f-f87cb04df8b3"
      },
      "execution_count": 20,
      "outputs": [
        {
          "output_type": "stream",
          "name": "stdout",
          "text": [
            "[25, 24, 23]\n",
            "[25, 10, 23]\n",
            "['python', 10, 23]\n"
          ]
        }
      ]
    },
    {
      "cell_type": "code",
      "source": [
        "#@title 9.Looping through the list (just for READING)\n",
        "my_list = [1, 2, 3, 4, 5]\n",
        "for x in my_list:\n",
        "  print(x)\n",
        "my_list = [1, 2, 3, 4, 5]\n",
        "total = 0\n",
        "for x in my_list:\n",
        "  total = total + x\n",
        "print (\"Total: \", total)\n",
        "total = sum(my_list)\n",
        "print (\"Total: \", total)"
      ],
      "metadata": {
        "id": "F6P3NNhFU0j8",
        "colab": {
          "base_uri": "https://localhost:8080/"
        },
        "outputId": "e4a3d6ea-5746-4e69-915d-51ea54206468"
      },
      "execution_count": 22,
      "outputs": [
        {
          "output_type": "stream",
          "name": "stdout",
          "text": [
            "1\n",
            "2\n",
            "3\n",
            "4\n",
            "5\n",
            "Total:  15\n",
            "Total:  15\n"
          ]
        }
      ]
    },
    {
      "cell_type": "code",
      "source": [
        "#@title 10.Looping through the list (for UPDATING)\n",
        "my_list = [1, 2, 3, 4]\n",
        "print(my_list)\n",
        "length = len(my_list)\n",
        "for i in range(length):\n",
        "  current_element = my_list[i]\n",
        "  my_list[i] = current_element + 10\n",
        "print(my_list)"
      ],
      "metadata": {
        "id": "QFJmGzYOU0nG",
        "colab": {
          "base_uri": "https://localhost:8080/"
        },
        "outputId": "654acafe-41a2-4062-8d8e-c5054a8b4e0b"
      },
      "execution_count": 23,
      "outputs": [
        {
          "output_type": "stream",
          "name": "stdout",
          "text": [
            "[1, 2, 3, 4]\n",
            "[11, 12, 13, 14]\n"
          ]
        }
      ]
    }
  ]
}