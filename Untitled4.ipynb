{
  "nbformat": 4,
  "nbformat_minor": 0,
  "metadata": {
    "colab": {
      "provenance": [],
      "authorship_tag": "ABX9TyM7hWuP5swqB3wCHQcObs/z",
      "include_colab_link": true
    },
    "kernelspec": {
      "name": "python3",
      "display_name": "Python 3"
    },
    "language_info": {
      "name": "python"
    }
  },
  "cells": [
    {
      "cell_type": "markdown",
      "metadata": {
        "id": "view-in-github",
        "colab_type": "text"
      },
      "source": [
        "<a href=\"https://colab.research.google.com/github/AnikaK72/python101/blob/main/Untitled4.ipynb\" target=\"_parent\"><img src=\"https://colab.research.google.com/assets/colab-badge.svg\" alt=\"Open In Colab\"/></a>"
      ]
    },
    {
      "cell_type": "code",
      "execution_count": 2,
      "metadata": {
        "id": "QvHgWe2S2X8z",
        "colab": {
          "base_uri": "https://localhost:8080/"
        },
        "outputId": "efec6c73-2097-47d3-f274-846b1f624de4"
      },
      "outputs": [
        {
          "output_type": "stream",
          "name": "stdout",
          "text": [
            "python ['y', 't', 'n', 'o', 'p', 'h'] True\n",
            "python ['y', 'q', 'n', 'o', 'p', 'h'] False\n",
            "program ['y', 'q', 'n', 'o', 'p', 'h'] False\n",
            "program ['p', 'm', 'r', 'o', 'g', 'a'] True\n"
          ]
        }
      ],
      "source": [
        "# Finish the implementation of is_word_guessed method in MIT project.\n",
        "def is_word_guessed(secret_word, letters_guessed):\n",
        "    for characters in secret_word:\n",
        "      if characters in letters_guessed:\n",
        "        continue\n",
        "      else:\n",
        "        return False\n",
        "\n",
        "    return True\n",
        "\n",
        "\n",
        "# Test the method - True\n",
        "secret_word = 'python'\n",
        "letters_guessed = ['y', 't', 'n', 'o', 'p', 'h']\n",
        "x = is_word_guessed(secret_word, letters_guessed)\n",
        "print(secret_word, letters_guessed, x)\n",
        "\n",
        "# Test the method - False\n",
        "secret_word = 'python'\n",
        "letters_guessed = ['y', 'q', 'n', 'o', 'p', 'h']\n",
        "x = is_word_guessed(secret_word, letters_guessed)\n",
        "print(secret_word, letters_guessed, x)\n",
        "\n",
        "\n",
        "# Test the method - False\n",
        "secret_word = 'program'\n",
        "letters_guessed = ['y', 'q', 'n', 'o', 'p', 'h']\n",
        "x = is_word_guessed(secret_word, letters_guessed)\n",
        "print(secret_word, letters_guessed, x)\n",
        "\n",
        "\n",
        "# Test the method - True\n",
        "secret_word = 'program'\n",
        "letters_guessed = ['p', 'm', 'r', 'o', 'g', 'a']\n",
        "x = is_word_guessed(secret_word, letters_guessed)\n",
        "print(secret_word, letters_guessed, x)"
      ]
    }
  ]
}