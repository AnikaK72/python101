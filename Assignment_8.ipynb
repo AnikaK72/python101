{
  "nbformat": 4,
  "nbformat_minor": 0,
  "metadata": {
    "colab": {
      "provenance": [],
      "include_colab_link": true
    },
    "kernelspec": {
      "name": "python3",
      "display_name": "Python 3"
    },
    "language_info": {
      "name": "python"
    }
  },
  "cells": [
    {
      "cell_type": "markdown",
      "metadata": {
        "id": "view-in-github",
        "colab_type": "text"
      },
      "source": [
        "<a href=\"https://colab.research.google.com/github/AnikaK72/python101/blob/main/Assignment_8.ipynb\" target=\"_parent\"><img src=\"https://colab.research.google.com/assets/colab-badge.svg\" alt=\"Open In Colab\"/></a>"
      ]
    },
    {
      "cell_type": "code",
      "execution_count": 11,
      "metadata": {
        "id": "jf7TN922Ray7",
        "colab": {
          "base_uri": "https://localhost:8080/"
        },
        "outputId": "87c54b04-86a2-40bd-f334-d3f116765177"
      },
      "outputs": [
        {
          "output_type": "stream",
          "name": "stdout",
          "text": [
            "max of 10, 30 and 2:  30\n",
            "max of 4, 5, 5:  5\n",
            "max of 5, 5, 5:  5\n",
            "max of -2, 0, -3:  0\n",
            "max of 4, 5, 99:  5\n",
            "max of 3, 2, 1:  3\n",
            "max of 3, 2, 1:  3.3\n",
            "max of cat, dog, mouse:  dog\n"
          ]
        }
      ],
      "source": [
        "#@title Assignment 8.1\n",
        "#1.  there are some bugs in this code. Please ensure this code is bug-free for all numbers and is working correctly.\n",
        "#2. Also test this function with different types of strings and ensures that it is working for the strings also.\n",
        "\n",
        "#3. you should the testing for\n",
        "\n",
        "'''\n",
        "This function returns the maximum of three numbers or three strings.\n",
        "In the case strings, larger string appears later in the dictionary.\n",
        "'''\n",
        "def getMax(a, b, c):\n",
        "  if (a > b):\n",
        "    if (a > c):\n",
        "      return a\n",
        "    else:\n",
        "      return c\n",
        "  elif (b > c) or (b > a):\n",
        "    return b\n",
        "  elif (b == c) or (b == a):\n",
        "    return b\n",
        "\n",
        "  \n",
        "# Call the function to test it\n",
        "# Take Away 1\n",
        "# Function Definition by itself doesn't mean anything\n",
        "# To make use of the function, you must call it (you must \"invoke\" it) \n",
        "# aka = method invocation\n",
        "\n",
        "# Take Away 2\n",
        "# Analogy: When you call Ola or Uber or Lyft, you need to get into the taxi\n",
        "# Analogy: When you order a pizza, you must consume it\n",
        "# Analogy: When you call a function, you should use the value returned by it\n",
        "\n",
        "x = getMax(10, 30, 2)\n",
        "print(\"max of 10, 30 and 2: \", x)\n",
        "\n",
        "y = getMax(4, 5, 5)\n",
        "print(\"max of 4, 5, 5: \", y)\n",
        "\n",
        "z = getMax(5, 5, 5)\n",
        "print(\"max of 5, 5, 5: \", z)\n",
        "\n",
        "z = getMax(-2, 0, -3)\n",
        "print(\"max of -2, 0, -3: \", z)\n",
        "\n",
        "z = getMax(4, 5, 99)\n",
        "print(\"max of 4, 5, 99: \", z)\n",
        "\n",
        "z = getMax(3, 2, 1)\n",
        "print(\"max of 3, 2, 1: \", z)\n",
        "\n",
        "z = getMax(3.3, 2.2, 1.1)\n",
        "print(\"max of 3, 2, 1: \", z)\n",
        "\n",
        "z = getMax('cat', 'dog', 'mouse')\n",
        "print(\"max of cat, dog, mouse: \", z)"
      ]
    },
    {
      "cell_type": "code",
      "source": [
        "#@title Assignment 8.2\n",
        "# implement isLeapYear() function and perform the testing\n",
        "'''\n",
        "Function Contract: Function Documentation\n",
        "\n",
        "isLeapYear function returns True if the input_year is a leap year.\n",
        "Otherwise, it returns False.\n",
        "\n",
        "If the year divisible by 100  &  if the year divisible by 400\n",
        "then it is leap year  (feb = 29)\n",
        "\n",
        "if the year divisible by 100  &  the year divisible by 4\n",
        "then it is leap year  (feb = 29)\n",
        "\n",
        "otherwise, it is NOT a leap year (feb =28)\n",
        "\n",
        "'''\n",
        "\n",
        "def isLeapYear(input_year):\n",
        "   pass\n",
        "            \n",
        "            \n",
        "# and do some testing with different year\n",
        "\n",
        "\n",
        "import calendar \n",
        "  \n",
        "year = 2017\n",
        "def isLeapYear(input_year):\n",
        "  x = calendar.isleap(input_year)\n",
        "  return x\n",
        "\n",
        "x = isLeapYear (2014)\n",
        "print(\"is 2014 a Leap Year:\", x)\n",
        "\n",
        "y = isLeapYear (2020)\n",
        "print(\"is 2020 a Leap Year:\", y)\n",
        "\n",
        "z = isLeapYear (3000)\n",
        "print(\"is 3000 a Leap Year:\", z)"
      ],
      "metadata": {
        "id": "iAHWHURVR0Hi",
        "colab": {
          "base_uri": "https://localhost:8080/"
        },
        "outputId": "3f285360-c5f2-4225-8f74-d3b441a39446"
      },
      "execution_count": 15,
      "outputs": [
        {
          "output_type": "stream",
          "name": "stdout",
          "text": [
            "is 2014 a Leap Year: False\n",
            "is 2020 a Leap Year: True\n",
            "is 3000 a Leap Year: False\n"
          ]
        }
      ]
    }
  ]
}