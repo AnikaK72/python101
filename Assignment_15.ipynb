{
  "nbformat": 4,
  "nbformat_minor": 0,
  "metadata": {
    "colab": {
      "provenance": [],
      "authorship_tag": "ABX9TyPKBtjxddO2kWMEvCQBMCdT",
      "include_colab_link": true
    },
    "kernelspec": {
      "name": "python3",
      "display_name": "Python 3"
    },
    "language_info": {
      "name": "python"
    }
  },
  "cells": [
    {
      "cell_type": "markdown",
      "metadata": {
        "id": "view-in-github",
        "colab_type": "text"
      },
      "source": [
        "<a href=\"https://colab.research.google.com/github/AnikaK72/python101/blob/main/Assignment_15.ipynb\" target=\"_parent\"><img src=\"https://colab.research.google.com/assets/colab-badge.svg\" alt=\"Open In Colab\"/></a>"
      ]
    },
    {
      "cell_type": "code",
      "execution_count": null,
      "metadata": {
        "id": "SFNhCGoLmVLh"
      },
      "outputs": [],
      "source": [
        "\n",
        "findGirl = input(\"What is the girl's name? \")\n",
        "\n",
        "girl_Names = open('GirlNames.txt', 'r')\n",
        "\n",
        "searchgirls = girl_Names.readline()\n",
        "\n",
        "while searchgirls != '':\n",
        "\n",
        "            searchgirls = searchgirls.rstrip('\\n')\n",
        "\n",
        "            if searchgirls == findGirl:\n",
        "                print(findGirl, 'is found in the top 200 baby names.')\n",
        "                print()\n",
        "\n",
        "                foundGirl = True\n",
        "\n",
        "            searchgirls = girl_Names.readline()\n",
        "      \n",
        "\n",
        "findBoy = input(\"What is the boy's name? \")\n",
        "\n",
        "boy_Names = open('BoyNames.txt', 'r')\n",
        "\n",
        "searchboys = boy_Names.readline()\n",
        "\n",
        "while searchboys != '':\n",
        "\n",
        "            searchboys = searchboys.rstrip('\\n')\n",
        "\n",
        "            if searchboys == findBoy:\n",
        "                print(findBoy, 'is found in the top 200 baby names.')\n",
        "                print()\n",
        "\n",
        "                foundBoy = True\n",
        "\n",
        "            searchboys = boy_Names.readline()\n",
        "   \n",
        "girl_Names.close()   \n",
        "boy_Names.close()\n",
        "\n",
        "if not foundGirl:\n",
        "      print('That name was not in the list.')\n",
        "\n",
        "if not foundBoy:\n",
        "        print('That name was not in the list.')"
      ]
    },
    {
      "cell_type": "code",
      "source": [
        "ROWS = 3\n",
        "COLUMNS =3\n",
        "\n",
        "def main():\n",
        "    values=[[0,0,0],[0,0,0],[0,0,0]]\n",
        "    for r in range(ROWS):\n",
        "        for c in range(COLUMNS):\n",
        "            print('Enter number', c + 1)\n",
        "            values[r][c]=int(input('Enter your number: '))\n",
        "        if values[0][0] + values[0][1] + values[0][2] == values[1][0] + values[1][1] + values[1][2] == values[1][0] \\\n",
        "                + values[1][1] + values[1][2] == values[2][0] + values[2][1] + values[2][2] == values[0][2] \\\n",
        "                + values[1][2] + values[2][2] == values[0][0] + values[1][1] + values[2][2]:\n",
        "            print('There is magic square')\n",
        "        else:\n",
        "          print(\"No magic square\"2)\n",
        "    print(values)\n",
        "main()"
      ],
      "metadata": {
        "id": "6mGfEcsapBHZ"
      },
      "execution_count": null,
      "outputs": []
    }
  ]
}