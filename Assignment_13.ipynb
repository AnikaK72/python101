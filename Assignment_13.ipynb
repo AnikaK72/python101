{
  "nbformat": 4,
  "nbformat_minor": 0,
  "metadata": {
    "colab": {
      "provenance": [],
      "authorship_tag": "ABX9TyNRn1woc2v1O8B7VsV/8ibi",
      "include_colab_link": true
    },
    "kernelspec": {
      "name": "python3",
      "display_name": "Python 3"
    },
    "language_info": {
      "name": "python"
    }
  },
  "cells": [
    {
      "cell_type": "markdown",
      "metadata": {
        "id": "view-in-github",
        "colab_type": "text"
      },
      "source": [
        "<a href=\"https://colab.research.google.com/github/AnikaK72/python101/blob/main/Assignment_13.ipynb\" target=\"_parent\"><img src=\"https://colab.research.google.com/assets/colab-badge.svg\" alt=\"Open In Colab\"/></a>"
      ]
    },
    {
      "cell_type": "code",
      "execution_count": null,
      "metadata": {
        "id": "Wuv662IEIuYc"
      },
      "outputs": [],
      "source": [
        "text = \"goldilocks.txt\"\n",
        "with open(text) as file_obj:\n",
        "  text2 = file_obj.readlines()\n",
        "  text2.reverse\n",
        "\n",
        "  contents = text2\n",
        "  count = contents.count(\"Papa\")\n",
        "\n",
        "  contents = text2\n",
        "  count2 = contents.count(\"Mama\")\n",
        "\n",
        "\n",
        "print(\"Count of Papa:\", count)\n",
        "\n",
        "print(\"Count of Mama:\", count2)"
      ]
    }
  ]
}