{
  "nbformat": 4,
  "nbformat_minor": 0,
  "metadata": {
    "colab": {
      "provenance": [],
      "authorship_tag": "ABX9TyN9tHJEFov274rpGMAqSovh",
      "include_colab_link": true
    },
    "kernelspec": {
      "name": "python3",
      "display_name": "Python 3"
    },
    "language_info": {
      "name": "python"
    }
  },
  "cells": [
    {
      "cell_type": "markdown",
      "metadata": {
        "id": "view-in-github",
        "colab_type": "text"
      },
      "source": [
        "<a href=\"https://colab.research.google.com/github/AnikaK72/python101/blob/main/Final_Project_Anika.ipynb\" target=\"_parent\"><img src=\"https://colab.research.google.com/assets/colab-badge.svg\" alt=\"Open In Colab\"/></a>"
      ]
    },
    {
      "cell_type": "code",
      "execution_count": null,
      "metadata": {
        "id": "3KPJWSgAOKV9"
      },
      "outputs": [],
      "source": [
        "def read_gas_prices (file = 'gasprices.txt'):\n",
        "# Opening and Reading the File - gasprices.txt\n",
        "  with open ('gasprices.txt') as gasprices_file_obj:\n",
        "    line_counter = 1\n",
        "\n",
        "    # Introducing the variables \n",
        "    prices_master_list = []\n",
        "    for each_line in gasprices_file_obj:\n",
        "\n",
        "# Splitting the list #print([line_counter])\n",
        "      line_counter = line_counter + 1\n",
        "      name_1 = each_line.split(':')\n",
        "      #print (name_1)\n",
        "\n",
        "      name_2 = name_1[0]\n",
        "      #print (name_2)\n",
        "\n",
        "      char = name_2.split ('-')\n",
        "      #print (char)\n",
        "      prices_mini_list = [char[0] + \",\" + char[1] + \",\" + char [2] + \",\" + name_1[1]]\n",
        "\n",
        "# Removing the In (new line character) and quotes\n",
        "\n",
        "# Appending price_mini_list to prices_mini_list\n",
        "      prices_master_list.append(prices_mini_list)\n",
        "      print(prices_master_list)\n",
        "\n",
        "# Testing this function by itself\n",
        "read_gas_prices()\n",
        "\n",
        "#print( Number of mini lists in prices_master_list: ', len (prices_master_list)) \n",
        "prices_master_list = []\n",
        "\n",
        "for index in range(5):\n",
        "    mini_list = prices_master_list[index]\n",
        "    print(mini_list)"
      ]
    }
  ]
}