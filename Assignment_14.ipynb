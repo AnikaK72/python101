{
  "nbformat": 4,
  "nbformat_minor": 0,
  "metadata": {
    "colab": {
      "provenance": [],
      "authorship_tag": "ABX9TyPWGpgG7ZFMxLiILC7cG4RB",
      "include_colab_link": true
    },
    "kernelspec": {
      "name": "python3",
      "display_name": "Python 3"
    },
    "language_info": {
      "name": "python"
    }
  },
  "cells": [
    {
      "cell_type": "markdown",
      "metadata": {
        "id": "view-in-github",
        "colab_type": "text"
      },
      "source": [
        "<a href=\"https://colab.research.google.com/github/AnikaK72/python101/blob/main/Assignment_14.ipynb\" target=\"_parent\"><img src=\"https://colab.research.google.com/assets/colab-badge.svg\" alt=\"Open In Colab\"/></a>"
      ]
    },
    {
      "cell_type": "code",
      "execution_count": null,
      "metadata": {
        "id": "1Zd83csOsP_5"
      },
      "outputs": [],
      "source": [
        "file_name = \"gasprices.txt\"\n",
        "with open(file_name) as file_object:\n",
        "  gas_prices = file_object.readlines()\n",
        "  \n",
        "for each_line in gas_prices:\n",
        "  first_second = each_line.split(\"-\")\n",
        "  first_value, second_value = first_second [0], first_second[1]\n",
        "  third_fourth = each_line.split(\":\")\n",
        "  third, fourth = third_fourth [0], third_fourth [1]\n",
        "  print(\"Month:\", first_value)\n",
        "  print(\"Day:\", second_value)\n",
        "  print(\"Year:\", third,)\n",
        "  print(\"Gas Price:\", fourth)\n"
      ]
    }
  ]
}