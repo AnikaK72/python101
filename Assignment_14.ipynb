{
  "nbformat": 4,
  "nbformat_minor": 0,
  "metadata": {
    "colab": {
      "provenance": [],
      "authorship_tag": "ABX9TyOrP3Hcx4qz11jbziAlI4kF",
      "include_colab_link": true
    },
    "kernelspec": {
      "name": "python3",
      "display_name": "Python 3"
    },
    "language_info": {
      "name": "python"
    }
  },
  "cells": [
    {
      "cell_type": "markdown",
      "metadata": {
        "id": "view-in-github",
        "colab_type": "text"
      },
      "source": [
        "<a href=\"https://colab.research.google.com/github/AnikaK72/python101/blob/main/Assignment_14.ipynb\" target=\"_parent\"><img src=\"https://colab.research.google.com/assets/colab-badge.svg\" alt=\"Open In Colab\"/></a>"
      ]
    },
    {
      "cell_type": "code",
      "execution_count": null,
      "metadata": {
        "id": "1Zd83csOsP_5"
      },
      "outputs": [],
      "source": [
        "file_name = \"gasprices.txt\"\n",
        "with open(file_name) as file_object:\n",
        "  gas_prices = file_object.readlines()\n",
        "  \n",
        "for each_line in gas_prices:\n",
        "  first_second = each_line.split(\"-\")\n",
        "  first_value, second_value = first_second [0], first_second[1]\n",
        "  third_fourth = each_line.split(\":\")\n",
        "  third, fourth = third_fourth [0], third_fourth [1]\n",
        "  print(\"Month:\", first_value)\n",
        "  print(\"Day:\", second_value)\n",
        "  print(\"Year:\", third,)\n",
        "  print(\"Gas Price:\", fourth)"
      ]
    },
    {
      "cell_type": "code",
      "source": [
        "file_name = \"Assignment_14.ipynb\"\n",
        "\n",
        "OUT_FILE_NAME = \"output.txt\"\n",
        "\n",
        "with open(OUT_FILE_NAME, 'w') as file_obj:\n",
        "  for num in range(1,10):\n",
        "    file_obj.write(file_name)\n",
        "    file_obj.write('\\n')\n",
        "  file_obj.write('Thank you for using my file writer')\n",
        "\n",
        "print(\"output.txt is now written\")"
      ],
      "metadata": {
        "colab": {
          "base_uri": "https://localhost:8080/"
        },
        "id": "y6h0yF9UED5F",
        "outputId": "62539050-a7dc-4e28-82a2-b986a2470aff"
      },
      "execution_count": 23,
      "outputs": [
        {
          "output_type": "stream",
          "name": "stdout",
          "text": [
            "output.txt is now written\n"
          ]
        }
      ]
    }
  ]
}