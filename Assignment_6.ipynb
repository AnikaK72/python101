{
  "nbformat": 4,
  "nbformat_minor": 0,
  "metadata": {
    "colab": {
      "provenance": [],
      "authorship_tag": "ABX9TyMy8EvWbNZ7T21BPREeBRVx",
      "include_colab_link": true
    },
    "kernelspec": {
      "name": "python3",
      "display_name": "Python 3"
    },
    "language_info": {
      "name": "python"
    }
  },
  "cells": [
    {
      "cell_type": "markdown",
      "metadata": {
        "id": "view-in-github",
        "colab_type": "text"
      },
      "source": [
        "<a href=\"https://colab.research.google.com/github/AnikaK72/python101/blob/main/Assignment_6.ipynb\" target=\"_parent\"><img src=\"https://colab.research.google.com/assets/colab-badge.svg\" alt=\"Open In Colab\"/></a>"
      ]
    },
    {
      "cell_type": "code",
      "execution_count": null,
      "metadata": {
        "id": "QXIPV5tXb0Dx"
      },
      "outputs": [],
      "source": [
        "###################\n",
        "##Assignment 6.1###\n",
        "###################\n",
        "\n",
        "speed = int(input(\"Enter the speed: \"))\n",
        "hour = int(input(\"Enter the hour: \"))\n",
        "for i in range(1, hour + 1):\n",
        "   distance = speed * i\n",
        "   print(\"The distance traveled after \" + str(i) + \" hour(s): \" + str(distance))"
      ]
    },
    {
      "cell_type": "code",
      "source": [
        "###################\n",
        "##Assignment 6.2###\n",
        "###################\n",
        "\n",
        "for Celsius in range (1, 21, 1):\n",
        "        Farenheit = (9 / 5) * Celsius + 32\n",
        "        print(Celsius, '\\t', format(Farenheit, '.1f'))"
      ],
      "metadata": {
        "colab": {
          "base_uri": "https://localhost:8080/"
        },
        "id": "EmxcYHELcB_r",
        "outputId": "da1e29c9-936e-41f5-83d6-bd029585764e"
      },
      "execution_count": 7,
      "outputs": [
        {
          "output_type": "stream",
          "name": "stdout",
          "text": [
            "1 \t 33.8\n",
            "2 \t 35.6\n",
            "3 \t 37.4\n",
            "4 \t 39.2\n",
            "5 \t 41.0\n",
            "6 \t 42.8\n",
            "7 \t 44.6\n",
            "8 \t 46.4\n",
            "9 \t 48.2\n",
            "10 \t 50.0\n",
            "11 \t 51.8\n",
            "12 \t 53.6\n",
            "13 \t 55.4\n",
            "14 \t 57.2\n",
            "15 \t 59.0\n",
            "16 \t 60.8\n",
            "17 \t 62.6\n",
            "18 \t 64.4\n",
            "19 \t 66.2\n",
            "20 \t 68.0\n"
          ]
        }
      ]
    }
  ]
}