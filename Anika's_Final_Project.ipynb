{
  "nbformat": 4,
  "nbformat_minor": 0,
  "metadata": {
    "colab": {
      "provenance": [],
      "include_colab_link": true
    },
    "kernelspec": {
      "name": "python3",
      "display_name": "Python 3"
    },
    "language_info": {
      "name": "python"
    }
  },
  "cells": [
    {
      "cell_type": "markdown",
      "metadata": {
        "id": "view-in-github",
        "colab_type": "text"
      },
      "source": [
        "<a href=\"https://colab.research.google.com/github/AnikaK72/python101/blob/main/Anika's_Final_Project.ipynb\" target=\"_parent\"><img src=\"https://colab.research.google.com/assets/colab-badge.svg\" alt=\"Open In Colab\"/></a>"
      ]
    },
    {
      "cell_type": "code",
      "execution_count": null,
      "metadata": {
        "id": "T96p9TLObQKR",
        "outputId": "71c1c948-a394-4a63-a75d-a712d2241729",
        "colab": {
          "base_uri": "https://localhost:8080/"
        }
      },
      "outputs": [
        {
          "output_type": "stream",
          "name": "stdout",
          "text": [
            "Cloning into 'python_input_files'...\n",
            "remote: Enumerating objects: 126, done.\u001b[K\n",
            "remote: Counting objects: 100% (47/47), done.\u001b[K\n",
            "remote: Compressing objects: 100% (46/46), done.\u001b[K\n",
            "remote: Total 126 (delta 23), reused 0 (delta 0), pack-reused 79\u001b[K\n",
            "Receiving objects: 100% (126/126), 5.69 MiB | 3.31 MiB/s, done.\n",
            "Resolving deltas: 100% (36/36), done.\n"
          ]
        }
      ],
      "source": [
        "#@title Mount github repo to the colab\n",
        "!git clone https://github.com/sjasthi/python_input_files.git"
      ]
    },
    {
      "cell_type": "code",
      "source": [
        "#@title we can also get the file directly using wget (web get)\n",
        "# Make sure that you are using the link to the RAW file\n",
        "!wget https://raw.githubusercontent.com/sjasthi/python_input_files/main/gasprices.txt"
      ],
      "metadata": {
        "id": "cB1aEknPb3bT",
        "outputId": "3c41398d-f123-400d-f6be-7e171f9d7484",
        "colab": {
          "base_uri": "https://localhost:8080/"
        }
      },
      "execution_count": 6,
      "outputs": [
        {
          "output_type": "stream",
          "name": "stdout",
          "text": [
            "--2023-04-04 00:04:10--  https://raw.githubusercontent.com/sjasthi/python_input_files/main/gasprices.txt\n",
            "Resolving raw.githubusercontent.com (raw.githubusercontent.com)... 185.199.110.133, 185.199.109.133, 185.199.108.133, ...\n",
            "Connecting to raw.githubusercontent.com (raw.githubusercontent.com)|185.199.110.133|:443... connected.\n",
            "HTTP request sent, awaiting response... 200 OK\n",
            "Length: 19059 (19K) [text/plain]\n",
            "Saving to: ‘gasprices.txt.1’\n",
            "\n",
            "\rgasprices.txt.1       0%[                    ]       0  --.-KB/s               \rgasprices.txt.1     100%[===================>]  18.61K  --.-KB/s    in 0.001s  \n",
            "\n",
            "2023-04-04 00:04:10 (19.8 MB/s) - ‘gasprices.txt.1’ saved [19059/19059]\n",
            "\n"
          ]
        }
      ]
    },
    {
      "cell_type": "code",
      "source": [
        "#@title Method Contracts for the final solution\n",
        "'''\n",
        "def read_gas_prices()\n",
        "def get_average_price_per_year()\n",
        "def get_average_price_per_month()\n",
        "def get_highest_and_lowest_prices_per_year()\n",
        "def generate_list_of_prices_lowest_to_highest()\n",
        "def generate_list_of_prices_highest_to_lowest()\n",
        "def print_runtime_summary()\n",
        "'''"
      ],
      "metadata": {
        "id": "kQnQeuUHhkgl"
      },
      "execution_count": null,
      "outputs": []
    },
    {
      "cell_type": "code",
      "source": [
        "#@title List all the global variables here\n",
        "# Global variables can be accessed by every function\n",
        "# prices_master_list captures all the gas prices data from the file as \"list of lists\"\n",
        "prices_master_list = []"
      ],
      "metadata": {
        "id": "37w-n6jcjlM_"
      },
      "execution_count": null,
      "outputs": []
    },
    {
      "cell_type": "code",
      "source": [
        "#@title read_gas_prices()\n",
        "# Reading the file and building the prices_master_list\n",
        "def read_gas_prices(file_name = 'gasprices.txt'):\n",
        "# Opening and Reading the File - gasprices.txt\n",
        "  with open ('gasprices.txt') as gasprices_file_obj:\n",
        "    line_counter = 1\n",
        "\n",
        "    # Introducing the variables \n",
        "    prices_master_list = []\n",
        "    for each_line in gasprices_file_obj:\n",
        "\n",
        "# Splitting the list #print([line_counter])\n",
        "      line_counter = line_counter + 1\n",
        "      name_1 = each_line.split(':')\n",
        "      #print (name_1)\n",
        "\n",
        "      name_2 = name_1[0]\n",
        "      #print (name_2)\n",
        "\n",
        "      char = name_2.split ('-')\n",
        "      #print (char)\n",
        "      prices_mini_list = [char[0] + \",\" + char[1] + \",\" + char [2] + \",\" + name_1[1]]\n",
        "\n",
        "# Removing the In (new line character) and quotes\n",
        "\n",
        "# Appending price_mini_list to prices_mini_list\n",
        "      prices_master_list.append(prices_mini_list)\n",
        "      print(prices_master_list)\n",
        "      \n",
        "# Testing this function by itself\n",
        "read_gas_prices()\n",
        "\n",
        "#If the above method works correctly, then prices_master_list would have been updated with all the data from the file.\n",
        "print('Number of mini lists in prices_master_list: ', len(prices_master_list))\n",
        "for index in range(5):\n",
        "  mini_list = prices_master_list[index]\n",
        "  print(mini_list)\n"
      ],
      "metadata": {
        "id": "uqkxR9bLitmI",
        "colab": {
          "base_uri": "https://localhost:8080/",
          "height": 215
        },
        "outputId": "890795a2-5e9d-4b63-ebea-9ea08544ea34"
      },
      "execution_count": 14,
      "outputs": [
        {
          "output_type": "error",
          "ename": "NameError",
          "evalue": "ignored",
          "traceback": [
            "\u001b[0;31m---------------------------------------------------------------------------\u001b[0m",
            "\u001b[0;31mNameError\u001b[0m                                 Traceback (most recent call last)",
            "\u001b[0;32m<ipython-input-14-681ebaba8faa>\u001b[0m in \u001b[0;36m<cell line: 28>\u001b[0;34m()\u001b[0m\n\u001b[1;32m     26\u001b[0m \u001b[0;31m# Appending price_mini_list to prices_mini_list\u001b[0m\u001b[0;34m\u001b[0m\u001b[0;34m\u001b[0m\u001b[0m\n\u001b[1;32m     27\u001b[0m       \u001b[0mprices_master_list\u001b[0m\u001b[0;34m.\u001b[0m\u001b[0mappend\u001b[0m\u001b[0;34m(\u001b[0m\u001b[0mprices_mini_list\u001b[0m\u001b[0;34m)\u001b[0m\u001b[0;34m\u001b[0m\u001b[0;34m\u001b[0m\u001b[0m\n\u001b[0;32m---> 28\u001b[0;31m \u001b[0mprint\u001b[0m\u001b[0;34m(\u001b[0m\u001b[0mprices_master_list\u001b[0m\u001b[0;34m)\u001b[0m\u001b[0;34m\u001b[0m\u001b[0;34m\u001b[0m\u001b[0m\n\u001b[0m\u001b[1;32m     29\u001b[0m \u001b[0;34m\u001b[0m\u001b[0m\n",
            "\u001b[0;31mNameError\u001b[0m: name 'prices_master_list' is not defined"
          ]
        }
      ]
    },
    {
      "cell_type": "code",
      "source": [
        "#@title get_average_price_per_year()\n",
        "#Reading prices_master_list and printing the output\n",
        "def read_file(file_name):\n",
        "  def average_price(gas_prices_dict):\n",
        "    with open ('gasprices.txt') as gasprices_file_obj:\n",
        "      average_price_per_year=dict()\n",
        "\n",
        "    for date_value in gas_prices_dict:\n",
        "        if date_value.year in average_price_per_year:\n",
        "            average_price_per_year[date_value.year].append(float(gas_prices_dict[date_value]))\n",
        "        else:\n",
        "            average_price_per_year[date_value.year] =[float(gas_prices_dict[date_value])]\n",
        "\n",
        "    for year in average_price_per_year:\n",
        "        values=average_price_per_year[year]\n",
        "        print(\"The average price in Year is ${cost:.3f}/gallon\", format(cost=sum(values)/len(values)))"
      ],
      "metadata": {
        "id": "h_mkvjCxPlxK"
      },
      "execution_count": 11,
      "outputs": []
    },
    {
      "cell_type": "code",
      "source": [
        "#@title get_average_price_per_month()\n",
        "#Reading prices_master_list and printing the output\n",
        "def read_file(file_name):\n",
        "  def average_price_month(gas_prices_dict):\n",
        "    with open ('gasprices.txt') as gasprices_file_obj:\n",
        "      average_price_per_month=dict()\n",
        "      for date_value in gas_prices_dict:\n",
        "        month_year = date_value.strftime('%m-%Y')\n",
        "        print(month_year)\n",
        "        if month_year in average_price_per_month:\n",
        "            average_price_per_month[month_year].append(float(gas_prices_dict[date_value]))\n",
        "        else:\n",
        "            average_price_per_month[month_year]=[float(gas_prices_dict[date_value])]\n",
        "    for month in average_price_per_month:\n",
        "        values=average_price_per_month[month]\n",
        "        print(\"The average price in {Month} is ${cost:.3f}/gallon\".format(Month=month, cost=sum(values)/len(values)))"
      ],
      "metadata": {
        "id": "obufOlRXixoV"
      },
      "execution_count": 10,
      "outputs": []
    },
    {
      "cell_type": "code",
      "source": [
        "#@title get_highest_and_lowest_prices_per_year()\n",
        "#Reading prices_master_list and printing the output\n",
        "def read_file(file_name):\n",
        "  def high_and_low_price(gas_prices_dict):\n",
        "    price_per_year=dict()\n",
        "    for date_value in gas_prices_dict:\n",
        "        if date_value.year in price_per_year:\n",
        "            price_per_year[date_value.year].append(float(gas_prices_dict[date_value]))\n",
        "        else:\n",
        "            price_per_year[date_value.year] =[float(gas_prices_dict[date_value])]\n",
        "    for year in price_per_year:\n",
        "        values=price_per_year[year]\n",
        "        print(\"In {Year},the highest gas price is {highest} and the lowest gas price is {lowest}\".format(Year=year, highest=max(price_per_year[year]),lowest=min(price_per_year[year])))"
      ],
      "metadata": {
        "id": "6MfaQaIGixzT"
      },
      "execution_count": 5,
      "outputs": []
    },
    {
      "cell_type": "code",
      "source": [
        "#@title generate_list_of_prices_lowest_to_highest()\n",
        "def read_file(file_name):\n",
        "  def ist_of_prices_highest_to_lowest(gas_prices_dict,descending,file_name):\n",
        "    sorted_values=sorted(gas_prices_dict.items(), key = get_value,reverse=descending)\n",
        "    with open(file_name,'w') as file_object:\n",
        "        file_object.write(\"Date\\tPrice($/gallon)\\n\")\n",
        "        for date_value, rate in sorted_values:\n",
        "          print(list_of_prices_lowest_to_highest(gas_prices, descending=False,file_name='lowest_highest.txt'))"
      ],
      "metadata": {
        "id": "nTLqjQzliyCb"
      },
      "execution_count": 3,
      "outputs": []
    },
    {
      "cell_type": "code",
      "source": [
        "#@title generate_list_of_prices_highest_to_lowest()\n",
        "def read_file(file_name):\n",
        "  def list_of_prices_highest_to_lowest(gas_prices_dict,descending,file_name):\n",
        "    sorted_values=sorted(gas_prices_dict.items(), key = get_value,reverse=descending)\n",
        "    with open(file_name,'w') as file_object:\n",
        "        file_object.write(\"Date\\tPrice($/gallon)\\n\")\n",
        "        for date_value, rate in sorted_values:\n",
        "          print(\"{date_value}\\t{cost}\\n\".format(date_value=date_value.strftime('%d-%m-%y'),cost=rate))"
      ],
      "metadata": {
        "id": "2UnxtLVmi203"
      },
      "execution_count": null,
      "outputs": []
    },
    {
      "cell_type": "code",
      "source": [
        "#@title print_runtime_summary()()\n",
        "\n",
        "'''\n",
        "Function Name\t\t\t\t\t\t\t\t\t\t\t\t          Time Taken\n",
        "def read_gas_prices() \t\t\t\t\t\t\t\t\t        \t0.004\n",
        "def get_average_price_per_year()\t\t\t\t\t\t\t    0.008\n",
        "def get_average_price_per_month()\n",
        "def get_highest_and_lowest_prices_per_year()\n",
        "def generate_list_of_prices_lowest_to_highest()\n",
        "def generate_list_of_prices_highest_to_lowest()\n",
        "\t\t\t\t\t\t\t\t\t            Total Time\t\t\t\t\t4.000\n",
        "\n",
        "'''\n",
        "import time\n",
        "import random\n",
        "\n",
        "\n",
        "# An example of how to capture the run time\n",
        "'''\n",
        "start_time = time.time() \n",
        "print(start_time)\n",
        "\n",
        "for x in range(100000000):\n",
        "\ty = random.randint(1, 100)\n",
        " \n",
        "end_time = time.time() \n",
        "print(start_time) \n",
        "\n",
        "run_time = end_time - start_time\n",
        "\n",
        "print('Execution time for generating 100000000 random numbers: ', run_time)\n",
        "'''\n",
        "\n",
        "\n",
        "# Capturing the rutime for def read_gas_prices() \t\n",
        "start_time = time.time()  \n",
        "read_gas_prices() \t\n",
        "end_time = time.time()  \n",
        "run_time_for_read_gas_prices = end_time - start_time\n",
        "print('read_gas_prices( ) runtime : ', run_time_for_read_gas_prices)\n",
        "\n",
        "# Capturing the rutime for get_average_price_per_year\n",
        "start_time = time.time()  \n",
        "get_average_price_per_year() \t\n",
        "end_time = time.time()  \n",
        "run_time_for_get_average_price_per_year = end_time - start_time\n",
        "print('get_average_price_per_year( ) runtime : ', run_time_for_get_average_price_per_year)\n",
        "\n",
        "# Repeat the process for other methods"
      ],
      "metadata": {
        "id": "gcKx4uxOlu0u"
      },
      "execution_count": null,
      "outputs": []
    }
  ]
}