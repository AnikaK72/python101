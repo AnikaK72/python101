{
  "nbformat": 4,
  "nbformat_minor": 0,
  "metadata": {
    "colab": {
      "provenance": [],
      "include_colab_link": true
    },
    "kernelspec": {
      "name": "python3",
      "display_name": "Python 3"
    },
    "language_info": {
      "name": "python"
    }
  },
  "cells": [
    {
      "cell_type": "markdown",
      "metadata": {
        "id": "view-in-github",
        "colab_type": "text"
      },
      "source": [
        "<a href=\"https://colab.research.google.com/github/AnikaK72/python101/blob/main/Anika's_Final_Project.ipynb\" target=\"_parent\"><img src=\"https://colab.research.google.com/assets/colab-badge.svg\" alt=\"Open In Colab\"/></a>"
      ]
    },
    {
      "cell_type": "code",
      "execution_count": null,
      "metadata": {
        "id": "T96p9TLObQKR",
        "outputId": "71c1c948-a394-4a63-a75d-a712d2241729",
        "colab": {
          "base_uri": "https://localhost:8080/"
        }
      },
      "outputs": [
        {
          "output_type": "stream",
          "name": "stdout",
          "text": [
            "Cloning into 'python_input_files'...\n",
            "remote: Enumerating objects: 126, done.\u001b[K\n",
            "remote: Counting objects: 100% (47/47), done.\u001b[K\n",
            "remote: Compressing objects: 100% (46/46), done.\u001b[K\n",
            "remote: Total 126 (delta 23), reused 0 (delta 0), pack-reused 79\u001b[K\n",
            "Receiving objects: 100% (126/126), 5.69 MiB | 3.31 MiB/s, done.\n",
            "Resolving deltas: 100% (36/36), done.\n"
          ]
        }
      ],
      "source": [
        "#@title Mount github repo to the colab\n",
        "!git clone https://github.com/sjasthi/python_input_files.git"
      ]
    },
    {
      "cell_type": "code",
      "source": [
        "#@title we can also get the file directly using wget (web get)\n",
        "# Make sure that you are using the link to the RAW file\n",
        "!wget https://raw.githubusercontent.com/sjasthi/python_input_files/main/gasprices.txt"
      ],
      "metadata": {
        "id": "cB1aEknPb3bT",
        "outputId": "3c41398d-f123-400d-f6be-7e171f9d7484",
        "colab": {
          "base_uri": "https://localhost:8080/"
        }
      },
      "execution_count": null,
      "outputs": [
        {
          "output_type": "stream",
          "name": "stdout",
          "text": [
            "--2023-04-04 00:04:10--  https://raw.githubusercontent.com/sjasthi/python_input_files/main/gasprices.txt\n",
            "Resolving raw.githubusercontent.com (raw.githubusercontent.com)... 185.199.110.133, 185.199.109.133, 185.199.108.133, ...\n",
            "Connecting to raw.githubusercontent.com (raw.githubusercontent.com)|185.199.110.133|:443... connected.\n",
            "HTTP request sent, awaiting response... 200 OK\n",
            "Length: 19059 (19K) [text/plain]\n",
            "Saving to: ‘gasprices.txt.1’\n",
            "\n",
            "\rgasprices.txt.1       0%[                    ]       0  --.-KB/s               \rgasprices.txt.1     100%[===================>]  18.61K  --.-KB/s    in 0.001s  \n",
            "\n",
            "2023-04-04 00:04:10 (19.8 MB/s) - ‘gasprices.txt.1’ saved [19059/19059]\n",
            "\n"
          ]
        }
      ]
    },
    {
      "cell_type": "code",
      "source": [
        "#@title Method Contracts for the final solution\n",
        "'''\n",
        "def read_gas_prices()\n",
        "def get_average_price_per_year()\n",
        "def get_average_price_per_month()\n",
        "def get_highest_and_lowest_prices_per_year()\n",
        "def generate_list_of_prices_lowest_to_highest()\n",
        "def generate_list_of_prices_highest_to_lowest()\n",
        "def print_runtime_summary()\n",
        "'''"
      ],
      "metadata": {
        "id": "kQnQeuUHhkgl"
      },
      "execution_count": null,
      "outputs": []
    },
    {
      "cell_type": "code",
      "source": [
        "#@title List all the global variables here\n",
        "# Global variables can be accessed by every function\n",
        "# prices_master_list captures all the gas prices data from the file as \"list of lists\"\n",
        "prices_master_list = []"
      ],
      "metadata": {
        "id": "37w-n6jcjlM_"
      },
      "execution_count": null,
      "outputs": []
    },
    {
      "cell_type": "code",
      "source": [
        "#@title read_gas_prices()\n",
        "prices_master_list = []\n",
        "\n",
        "#get_tokens spilts the line to create four tokens: month, day, year, price\n",
        "def get_tokens(line):\n",
        "    tokens = line.split('-')\n",
        "    month = tokens[0]\n",
        "    day = tokens[1]\n",
        "    year_price = tokens[2]\n",
        "    \n",
        "    year_price_tokens = year_price.split(':')\n",
        "    year = year_price_tokens[0]\n",
        "    price = year_price_tokens[1]\n",
        "    month = int(month)\n",
        "    day = int(day)\n",
        "    year = int(year)\n",
        "    price = float(price)\n",
        "    \n",
        "    return [month, day, year, price]\n",
        "    \n",
        "def tokens(prices_master_list):\n",
        "    month = prices_master_list[0]\n",
        "    day = prices_master_list[1]\n",
        "    year = prices_master_list[2]\n",
        "    price = prices_master_list[3]\n",
        "    \n",
        "# Reading the file and building the prices_master_list\n",
        "def read_gas_prices(file_name = 'gasprices.txt'):\n",
        "  with open(file_name) as gasprices_file_obj:\n",
        "    for each_line in gasprices_file_obj:\n",
        "      \n",
        "      prices_mini_list = get_tokens(each_line)\n",
        "\n",
        "      prices_master_list.append(prices_mini_list)\n",
        "\n",
        "#call read_gas_prices to build prices_master_list\n",
        "read_gas_prices()\n",
        "\n",
        "print('Number of mini lists in prices_master_list: ', len(prices_master_list))\n",
        "\n",
        "for index in range(5):\n",
        "  mini_list = prices_master_list[index]\n",
        "  print(mini_list)"
      ],
      "metadata": {
        "id": "uqkxR9bLitmI",
        "colab": {
          "base_uri": "https://localhost:8080/"
        },
        "outputId": "58b9b83f-9e0d-4c22-e05b-bd78dd63aa74"
      },
      "execution_count": null,
      "outputs": [
        {
          "output_type": "stream",
          "name": "stdout",
          "text": [
            "Number of mini lists in prices_master_list:  1065\n",
            "[4, 5, 1993, 1.068]\n",
            "[4, 12, 1993, 1.079]\n",
            "[4, 19, 1993, 1.079]\n",
            "[4, 26, 1993, 1.086]\n",
            "[5, 3, 1993, 1.086]\n"
          ]
        }
      ]
    },
    {
      "cell_type": "code",
      "source": [
        "#@title get_average_price_per_year()\n",
        "#Reading prices_master_list and printing the output\n",
        "def get_average_price_per_year():\n",
        "  for current_year in range(1993, 2013):\n",
        "    total_count = 0\n",
        "    current_prices = 0\n",
        "    current_year = 1993\n",
        "    if current_year == prices_master_list[2]:\n",
        "        total_count = total_count + 1\n",
        "        current_prices =  current_prices + prices_master_list[3]\n",
        "        average = (current_prices) / (total_count)\n",
        "        print(current_year, \"        \", float(average))\n",
        "        current_year = current_year + 1\n",
        "\n",
        "print(get_average_price_per_year())\n"
      ],
      "metadata": {
        "id": "h_mkvjCxPlxK",
        "colab": {
          "base_uri": "https://localhost:8080/"
        },
        "outputId": "56b3599a-ccc6-4971-c783-fcaa9ab602aa"
      },
      "execution_count": null,
      "outputs": [
        {
          "output_type": "stream",
          "name": "stdout",
          "text": [
            "None\n"
          ]
        }
      ]
    },
    {
      "cell_type": "code",
      "source": [
        "#@title get_average_price_per_month()\n",
        "#Reading prices_master_list and printing the output\n",
        "def get_average_price_per_month():\n",
        "  for current_month in range( 1, 12):\n",
        "    total_count = 0\n",
        "    current_prices = 0\n",
        "    current_month = 1\n",
        "    if current_month == prices_master_list[0]:\n",
        "        total_count = total_count + 1\n",
        "        current_prices =  current_prices + prices_master_list[3]\n",
        "        average = (current_prices) / (total_count)\n",
        "        print(current_month, \"        \", float(average))\n",
        "        current_month = current_month + 1 < 13\n",
        "\n",
        "print(get_average_price_per_month())\n"
      ],
      "metadata": {
        "id": "obufOlRXixoV",
        "colab": {
          "base_uri": "https://localhost:8080/"
        },
        "outputId": "40a3c3f8-ed2b-46b5-c056-09464d228543"
      },
      "execution_count": null,
      "outputs": [
        {
          "output_type": "stream",
          "name": "stdout",
          "text": [
            "None\n"
          ]
        }
      ]
    },
    {
      "cell_type": "code",
      "source": [
        "#@title get_highest_and_lowest_prices_per_year()\n",
        "\n",
        "#Processing the prices_master_list and printing the output\n",
        "def get_highest_and_lowest_prices_per_year():\n",
        "  for year in list:\n",
        "    min = prices_master_list[3]\n",
        "    for i in list:\n",
        "      if i < min:\n",
        "       (min) = i\n",
        "\n",
        "  for year in list:\n",
        "    max = list[0]\n",
        "    for i in list:\n",
        "      if i > max:\n",
        "       (max) = i\n",
        "\n",
        "print(min, max)"
      ],
      "metadata": {
        "id": "6MfaQaIGixzT",
        "colab": {
          "base_uri": "https://localhost:8080/"
        },
        "outputId": "cabeccfd-53fe-4711-acc6-357096884931"
      },
      "execution_count": null,
      "outputs": [
        {
          "output_type": "stream",
          "name": "stdout",
          "text": [
            "<built-in function min> <built-in function max>\n"
          ]
        }
      ]
    },
    {
      "cell_type": "code",
      "source": [
        "#@title generate_list_of_prices_lowest_to_highest()\n",
        "\n",
        "#Processing the prices_master_list and printing the output\n",
        "def generate_list_of_prices_lowest_to_highest():\n",
        "    print(prices_master_list.sort())"
      ],
      "metadata": {
        "id": "nTLqjQzliyCb"
      },
      "execution_count": null,
      "outputs": []
    },
    {
      "cell_type": "code",
      "source": [
        "#@title generate_list_of_prices_highest_to_lowest()\n",
        "\n",
        "#Processing the prices_master_list and printing the output\n",
        "def generate_list_of_prices_highest_to_lowest():\n",
        "    prices_master_list.sort(reverse = True)\n",
        "    print(prices_master_list)"
      ],
      "metadata": {
        "id": "2UnxtLVmi203"
      },
      "execution_count": null,
      "outputs": []
    },
    {
      "cell_type": "code",
      "source": [
        "#@title print_runtime_summary()()\n",
        "\n",
        "import time\n",
        "import random\n",
        "\n",
        "\n",
        "# An example of how to capture the run time\n",
        "'''\n",
        "start_time = time.time() \n",
        "print(start_time)\n",
        "\n",
        "for x in range(100000000):\n",
        "\ty = random.randint(1, 100)\n",
        " \n",
        "end_time = time.time() \n",
        "print(start_time) \n",
        "\n",
        "run_time = end_time - start_time\n",
        "\n",
        "print('Execution time for generating 100000000 random numbers: ', run_time)\n",
        "'''\n",
        "\n",
        "\n",
        "# Capturing the rutime for def read_gas_prices() \t\n",
        "start_time = time.time()  \n",
        "read_gas_prices() \t\n",
        "end_time = time.time()  \n",
        "run_time_for_read_gas_prices = end_time - start_time\n",
        "print('read_gas_prices( ) runtime : ', run_time_for_read_gas_prices)\n",
        "\n",
        "# Capturing the rutime for get_average_price_per_year\n",
        "start_time = time.time()  \n",
        "get_average_price_per_year() \t\n",
        "end_time = time.time()  \n",
        "run_time_for_get_average_price_per_year = end_time - start_time\n",
        "print('get_average_price_per_year( ) runtime : ', run_time_for_get_average_price_per_year)\n",
        "\n",
        "# Capturing the rutime for get_average_price_per_month\n",
        "start_time = time.time()  \n",
        "get_average_price_per_month() \t\n",
        "end_time = time.time()  \n",
        "run_time_for_get_average_price_per_month = end_time - start_time\n",
        "print('get_average_price_per_month( ) runtime : ', run_time_for_get_average_price_per_month)\n",
        "\n",
        "# Capturing the rutime for get_highest_and_lowest_prices_per_year\n",
        "start_time = time.time()  \n",
        "get_highest_and_lowest_prices_per_year() \t\n",
        "end_time = time.time()  \n",
        "run_time_for_get_highest_and_lowest_prices_per_year = end_time - start_time\n",
        "print('get_highest_and_lowest_prices_per_year( ) runtime : ', run_time_for_get_highest_and_lowest_prices_per_year)\n",
        "\n",
        "# Capturing the rutime for generate_list_of_prices_lowest_to_highest\n",
        "start_time = time.time()  \n",
        "generate_list_of_prices_lowest_to_highest() \t\n",
        "end_time = time.time()  \n",
        "run_time_for_generate_list_of_prices_lowest_to_highest = end_time - start_time\n",
        "print('generate_list_of_prices_lowest_to_highest( ) runtime : ', run_time_for_generate_list_of_prices_lowest_to_highest)\n",
        "\n",
        "# Capturing the rutime for generate_list_of_prices_highest_to_lowest\n",
        "start_time = time.time()  \n",
        "generate_list_of_prices_highest_to_lowest() \t\n",
        "end_time = time.time()  \n",
        "run_time_for_generate_list_of_prices_highest_to_lowest = end_time - start_time\n",
        "print('generate_list_of_prices_highest_to_lowest( ) runtime : ', run_time_for_generate_list_of_prices_highest_to_lowest)"
      ],
      "metadata": {
        "id": "gcKx4uxOlu0u"
      },
      "execution_count": null,
      "outputs": []
    }
  ]
}