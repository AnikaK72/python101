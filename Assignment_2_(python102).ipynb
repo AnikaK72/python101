{
  "nbformat": 4,
  "nbformat_minor": 0,
  "metadata": {
    "colab": {
      "provenance": [],
      "authorship_tag": "ABX9TyMqBb0SAmTam59f0mKj1wkq",
      "include_colab_link": true
    },
    "kernelspec": {
      "name": "python3",
      "display_name": "Python 3"
    },
    "language_info": {
      "name": "python"
    }
  },
  "cells": [
    {
      "cell_type": "markdown",
      "metadata": {
        "id": "view-in-github",
        "colab_type": "text"
      },
      "source": [
        "<a href=\"https://colab.research.google.com/github/AnikaK72/python101/blob/main/Assignment_2_(python102).ipynb\" target=\"_parent\"><img src=\"https://colab.research.google.com/assets/colab-badge.svg\" alt=\"Open In Colab\"/></a>"
      ]
    },
    {
      "cell_type": "code",
      "execution_count": 5,
      "metadata": {
        "id": "U1GU0E_a3gqb",
        "colab": {
          "base_uri": "https://localhost:8080/"
        },
        "outputId": "efca0588-7704-4660-eb33-4aadbcb1ea2c"
      },
      "outputs": [
        {
          "output_type": "stream",
          "name": "stdout",
          "text": [
            "c_ m_ _ _ _ r\n",
            "_ pr_ _ ramm_ _ _ \n",
            "am_ r_ ca\n",
            " defghijklmnopqrstuvwxyz\n",
            " abcdefghijklmnostuvwxyz\n",
            " acdefghijklmnpqrstuvwyz\n"
          ]
        }
      ],
      "source": [
        "def get_guessed_word(secret_word, letters_guessed):\n",
        "  guessed_word = ''\n",
        "\n",
        "  for char in secret_word:\n",
        "\n",
        "    if char in letters_guessed:\n",
        "      guessed_word = guessed_word + char\n",
        "\n",
        "    else:\n",
        "      guessed_word = guessed_word + '_ '\n",
        "\n",
        "  return guessed_word\n",
        "\n",
        "\n",
        "#@title Testing of get_guessed_word(my_word, guesses)\n",
        "# calling the function: tes case 1\n",
        "my_word = 'computer'\n",
        "guesses = ['c', 'w', 'm', 'r']\n",
        "secret_phrase = get_guessed_word(my_word, guesses)\n",
        "print(secret_phrase)  # c_ m_ _ _ _ r\n",
        "\n",
        "my_word = ' programming'\n",
        "guesses = ['c', 'p', 'm', 'a', 'r']\n",
        "secret_phrase = get_guessed_word(my_word, guesses)\n",
        "print(secret_phrase)  # pr_ _ ramm_ _ _ '\n",
        "\n",
        "\n",
        "my_word = 'america'\n",
        "guesses = ['c', 'p', 'm', 'a', 'r']\n",
        "secret_phrase = get_guessed_word(my_word, guesses)\n",
        "print(secret_phrase)  # am_ r_ ca'\n",
        "\n",
        "\n",
        "#@title Testing of get_available_letters(letters_guessed):\n",
        "def get_available_letters(letters_guessed):\n",
        "  import string\n",
        "  alpha = string.ascii_lowercase\n",
        "\n",
        "  not_guessed = ' '\n",
        "\n",
        "  for char in alpha:\n",
        "    if char not in letters_guessed:\n",
        "      not_guessed = not_guessed + char\n",
        "\n",
        "  return not_guessed\n",
        "\n",
        "str_1 = get_available_letters(['a', 'b', 'c'])\n",
        "print(str_1)  # \"def...z\"\n",
        "\n",
        "\n",
        "str_1 = get_available_letters(['p', 'q', 'r'])\n",
        "print(str_1)  # \"abc... z\" (everything except pqr)\n",
        "\n",
        "\n",
        "str_1 = get_available_letters(['b', 'o', 'x'])\n",
        "print(str_1)  # \"ac... z\" (everything except b, o, x)"
      ]
    }
  ]
}