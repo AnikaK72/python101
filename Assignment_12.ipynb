{
  "nbformat": 4,
  "nbformat_minor": 0,
  "metadata": {
    "colab": {
      "provenance": [],
      "authorship_tag": "ABX9TyNixur3m9Bp0OBu2/+kwoCI",
      "include_colab_link": true
    },
    "kernelspec": {
      "name": "python3",
      "display_name": "Python 3"
    },
    "language_info": {
      "name": "python"
    }
  },
  "cells": [
    {
      "cell_type": "markdown",
      "metadata": {
        "id": "view-in-github",
        "colab_type": "text"
      },
      "source": [
        "<a href=\"https://colab.research.google.com/github/AnikaK72/python101/blob/main/Assignment_12.ipynb\" target=\"_parent\"><img src=\"https://colab.research.google.com/assets/colab-badge.svg\" alt=\"Open In Colab\"/></a>"
      ]
    },
    {
      "cell_type": "code",
      "execution_count": null,
      "metadata": {
        "id": "nNsOPDIMdW8b"
      },
      "outputs": [],
      "source": [
        "phone_letters = ['A'== 2,'B'== 2,'C'== 2,'D'== 3,'E'== 3,\n",
        "                 'F'== 3,'G'== 4,'H'== 4,'I'== 4,'J'== 5,\n",
        "                 'K'== 5,'L'== 5,'M'== 6,'N'== 6,'O'== 6,\n",
        "                 'P'== 7,'Q'== 7,'R'== 7,'S'== 7,'T'== 8,\n",
        "                 'U'== 8,'V'== 8,'W'== 9,'X'== 9,'Y'== 9,\n",
        "                 'Z'== 9]\n",
        "\n",
        "\n",
        "number = input('Enter an alpha-numeric phone number: ')\n",
        "\n",
        "result = []\n",
        "\n",
        "for n in number:\n",
        "    if n.isdigit():\n",
        "        str(result.append(n))\n",
        "        result.append(value)\n",
        "    if n.isalpha():\n",
        "        value = phone_letters(n.capitalize())\n",
        "\n",
        "for ch in result:\n",
        "    print(ch)"
      ]
    }
  ]
}