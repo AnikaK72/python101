{
  "nbformat": 4,
  "nbformat_minor": 0,
  "metadata": {
    "colab": {
      "provenance": [],
      "authorship_tag": "ABX9TyO287KDgtRNrF5L/Te5Tlpn",
      "include_colab_link": true
    },
    "kernelspec": {
      "name": "python3",
      "display_name": "Python 3"
    },
    "language_info": {
      "name": "python"
    }
  },
  "cells": [
    {
      "cell_type": "markdown",
      "metadata": {
        "id": "view-in-github",
        "colab_type": "text"
      },
      "source": [
        "<a href=\"https://colab.research.google.com/github/AnikaK72/python101/blob/main/Final_Project_Part_1.ipynb\" target=\"_parent\"><img src=\"https://colab.research.google.com/assets/colab-badge.svg\" alt=\"Open In Colab\"/></a>"
      ]
    },
    {
      "cell_type": "code",
      "execution_count": 2,
      "metadata": {
        "id": "dh-U_f4DT9Xe"
      },
      "outputs": [],
      "source": [
        "def read_gas_prices (file = 'gasprices.txt'):\n",
        "# Opening and Reading the File - gasprices.txt\n",
        "  with open ('gasprices.txt') as gasprices_file_obj:\n",
        "    line_counter = 1\n",
        "\n",
        "    # Introducing the variables \n",
        "    prices_master_list = []\n",
        "    for each_line in gasprices_file_obj:\n",
        "\n",
        "# Splitting the list #print([line_counter])\n",
        "      line_counter = line_counter + 1\n",
        "      name_1 = each_line.split(':')\n",
        "      #print (name_1)\n",
        "\n",
        "      name_2 = name_1[0]\n",
        "      #print (name_2)\n",
        "\n",
        "      char = name_2.split ('-')\n",
        "      #print (char)\n",
        "      prices_mini_list = [char[0] + \",\" + char[1] + \",\" + char [2] + \",\" + name_1[1]]"
      ]
    }
  ]
}