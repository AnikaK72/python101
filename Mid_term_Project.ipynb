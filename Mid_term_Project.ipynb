{
  "nbformat": 4,
  "nbformat_minor": 0,
  "metadata": {
    "colab": {
      "provenance": [],
      "toc_visible": true,
      "authorship_tag": "ABX9TyO5tOXR9FYiZMNSGXNLKtXT",
      "include_colab_link": true
    },
    "kernelspec": {
      "name": "python3",
      "display_name": "Python 3"
    },
    "language_info": {
      "name": "python"
    }
  },
  "cells": [
    {
      "cell_type": "markdown",
      "metadata": {
        "id": "view-in-github",
        "colab_type": "text"
      },
      "source": [
        "<a href=\"https://colab.research.google.com/github/AnikaK72/python101/blob/main/Mid_term_Project.ipynb\" target=\"_parent\"><img src=\"https://colab.research.google.com/assets/colab-badge.svg\" alt=\"Open In Colab\"/></a>"
      ]
    },
    {
      "cell_type": "code",
      "source": [
        "def is_credit(card_number):\n",
        "    sum_digits = 0\n",
        "    list = [int(x) for x in card_number]\n",
        "    list.reverse()\n",
        "    for index in range(len(list)):\n",
        "        value = number[index]\n",
        "        if (index % 2) == 0:\n",
        "          doubled_value = value * 2\n",
        "            if value >= 10:\n",
        "              doubled_value_sum = doubled_value - 9\n",
        "              int (doubled_value_sum) + sum_digits\n",
        "        else:\n",
        "            sum_digits.append(value)\n",
        "        \n",
        "    total = sum(sum_digits)\n",
        "    if total % 10 == 0:\n",
        "      print(\"VALID\") \n",
        "    else:\n",
        "       print(\"INVALID\") \n",
        "          \n",
        "def is_visa(card_number):\n",
        "      int(input(\"Enter the credit card number: \"))\n",
        "      num_digits = len(card_number)\n",
        "      if card_number[0] == \"4\" and num_digits == 16 or 13:\n",
        "          print(\"VISA card is valid\")\n",
        "      else:\n",
        "          print(\"INVALID\")\n",
        "\n",
        "\n",
        "\n",
        "def is_mastercard(card_number):\n",
        "      int(input(\"Enter the credit card number: \"))\n",
        "      num_digits = len(card_number)\n",
        "      if card_number[0] == \"5\" and num_digits == 16:\n",
        "          print(\"MASTERCARD card is valid\")\n",
        "\n",
        "      else:\n",
        "          print(\"INVALID\")\n",
        "\n",
        "def main():\n",
        "  print(\"is_credit('6011000000000004')\", is_credit(\"6011000000000004\"))\n",
        "  print(\"is_credit('79927398713')\", is_credit(\"79927398713\"))\n",
        "  print(\"is_credit('30000000000004')\" ,is_credit(\"30000000000004\"))\n",
        "  print(\"is_credit('6911600873502604')\"  ,is_credit(\"6911600873502604\"))\n",
        "  print(\"is_credit('1234567890')\",  is_credit(\"1234567890\"))\n",
        "\n",
        "  print(\"is_visa('6011000000000004')\",is_visa(\"6011000000000004\"))\n",
        "  print(\"is_visa('79927398713')\", is_visa(\"79927398713\"))\n",
        "  print(\"is_visa('30000000000004')\" ,is_visa(\"30000000000004\"))\n",
        "  print(\"is_visa('6911600873502604')\"  ,is_visa(\"6911600873502604\"))\n",
        "  print(\"is_visa('1234567890')\",  is_visa(\"1234567890\"))\n",
        "\n",
        "  print(\"is_mastercard('6011000000000004')\",is_mastercard(\"6011000000000004\"))\n",
        "  print(\"is_mastercard('79927398713')\", is_mastercard(\"79927398713\"))\n",
        "  print(\"is_mastercard('30000000000004')\" ,is_mastercard(\"30000000000004\"))\n",
        "  print(\"is_mastercard('6911600873502604')\"  ,is_mastercard(\"6911600873502604\"))\n",
        "  print(\"is_mastercard('1234567890')\",  is_mastercard(\"1234567890\"))\n",
        "main()"
      ],
      "metadata": {
        "colab": {
          "base_uri": "https://localhost:8080/",
          "height": 130
        },
        "id": "BGkDDQoP4XrD",
        "outputId": "df113cf8-a2e6-4e92-e1ae-330d0a7f1792"
      },
      "execution_count": 4,
      "outputs": [
        {
          "output_type": "error",
          "ename": "IndentationError",
          "evalue": "ignored",
          "traceback": [
            "\u001b[0;36m  File \u001b[0;32m\"<ipython-input-4-3121027cfd4a>\"\u001b[0;36m, line \u001b[0;32m9\u001b[0m\n\u001b[0;31m    if value >= 10:\u001b[0m\n\u001b[0m    ^\u001b[0m\n\u001b[0;31mIndentationError\u001b[0m\u001b[0;31m:\u001b[0m unexpected indent\n"
          ]
        }
      ]
    }
  ]
}