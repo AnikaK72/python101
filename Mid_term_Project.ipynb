{
  "nbformat": 4,
  "nbformat_minor": 0,
  "metadata": {
    "colab": {
      "provenance": [],
      "authorship_tag": "ABX9TyPSkAt/kpZNmJD8NDWSo/SN",
      "include_colab_link": true
    },
    "kernelspec": {
      "name": "python3",
      "display_name": "Python 3"
    },
    "language_info": {
      "name": "python"
    }
  },
  "cells": [
    {
      "cell_type": "markdown",
      "metadata": {
        "id": "view-in-github",
        "colab_type": "text"
      },
      "source": [
        "<a href=\"https://colab.research.google.com/github/AnikaK72/python101/blob/main/Mid_term_Project.ipynb\" target=\"_parent\"><img src=\"https://colab.research.google.com/assets/colab-badge.svg\" alt=\"Open In Colab\"/></a>"
      ]
    },
    {
      "cell_type": "code",
      "execution_count": null,
      "metadata": {
        "id": "qFB-TgBGvxAz"
      },
      "outputs": [],
      "source": [
        "def get_card_type(s):\n",
        "  if s[0] == \"4\":\n",
        "    print(\"VISA\")\n",
        "  if s[0] == \"5\":\n",
        "    print(\"Master Card\")\n",
        "  if s[0] == \"3\":\n",
        "    print(\"American Express\")\n",
        "\n",
        "def isValid(CCNumber):\n",
        "  sum=0\n",
        "  num_digits = len(CCNumber)\n",
        "  oddeven = num_digits and 1\n",
        "  for count in range(0, num_digits):\n",
        "    digit=int(CCNumber[count])\n",
        "    if not ((count&1) ^ oddeven):\n",
        "        digit = digit * 2\n",
        "    if digit > 9:\n",
        "        digit = digit - 9\n",
        "    sum = sum + digit\n",
        "  return((sum % 10) == 0)\n",
        "\n",
        "def main():\n",
        "  m=(open (\"CCNumbers. py.\", \"r\"))\n",
        "CCNumber = input(\"CCNumber:\")\n",
        "s = \"\"\n",
        "for i in 'm':\n",
        "  s = i[0:len(i)-1]\n",
        "valid = isValid(CCNumber)\n",
        "if valid == False:\n",
        "    print(\"INVALID CC NUMBER:\")\n",
        "else:\n",
        "  getcardtype = get_card_type(CCNumber)\n",
        "print(s + getcardtype + \"VALID CC NUMBER\")"
      ]
    }
  ]
}