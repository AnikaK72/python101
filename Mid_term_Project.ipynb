{
  "nbformat": 4,
  "nbformat_minor": 0,
  "metadata": {
    "colab": {
      "provenance": [],
      "toc_visible": true,
      "authorship_tag": "ABX9TyPdlMdnKjUU4Gio4VGmn4Gb",
      "include_colab_link": true
    },
    "kernelspec": {
      "name": "python3",
      "display_name": "Python 3"
    },
    "language_info": {
      "name": "python"
    }
  },
  "cells": [
    {
      "cell_type": "markdown",
      "metadata": {
        "id": "view-in-github",
        "colab_type": "text"
      },
      "source": [
        "<a href=\"https://colab.research.google.com/github/AnikaK72/python101/blob/main/Mid_term_Project.ipynb\" target=\"_parent\"><img src=\"https://colab.research.google.com/assets/colab-badge.svg\" alt=\"Open In Colab\"/></a>"
      ]
    },
    {
      "cell_type": "code",
      "source": [
        "def is_credit(card_number):\n",
        "    pass\n",
        "\n",
        "def is_visa(card_number):\n",
        "      int(input(\"Enter the credit card number: \"))\n",
        "      num_digits = len(card_number)\n",
        "      if s[0] == \"4\" and num_digits == 16 or 13:\n",
        "          print(\"VISA card is valid\")\n",
        "\n",
        "      else:\n",
        "          print(\"INVALID\")\n",
        "      pass\n",
        "\n",
        "\n",
        "def is_mastercard(card_number):\n",
        "      int(input(\"Enter the credit card number: \"))\n",
        "      num_digits = len(card_number)\n",
        "      if s[0] == \"5\" and num_digits == 16:\n",
        "          print(\"MASTERCARD card is valid\")\n",
        "\n",
        "      else:\n",
        "          print(\"INVALID\")\n",
        "      pass\n",
        "\n",
        "def main():\n",
        "  print(\"is_credit('6011000000000004')\", is_credit(\"6011000000000004\"))\n",
        "  print(\"is_credit('79927398713')\", is_credit(\"79927398713\"))\n",
        "  print(\"is_credit('30000000000004')\" ,is_credit(\"30000000000004\"))\n",
        "  print(\"is_credit('6911600873502604')\"  ,is_credit(\"6911600873502604\"))\n",
        "  print(\"is_credit('1234567890')\",  is_credit(\"1234567890\"))\n",
        "\n",
        "  print(\"is_visa('6011000000000004')\",is_visa(\"6011000000000004\"))\n",
        "  print(\"is_visa('79927398713')\", is_visa(\"79927398713\"))\n",
        "  print(\"is_visa('30000000000004')\" ,is_visa(\"30000000000004\"))\n",
        "  print(\"is_visa('6911600873502604')\"  ,is_visa(\"6911600873502604\"))\n",
        "  print(\"is_visa('1234567890')\",  is_visa(\"1234567890\"))\n",
        "\n",
        "  print(\"is_mastercard('6011000000000004')\",is_mastercard(\"6011000000000004\"))\n",
        "  print(\"is_mastercard('79927398713')\", is_mastercard(\"79927398713\"))\n",
        "  print(\"is_mastercard('30000000000004')\" ,is_mastercard(\"30000000000004\"))\n",
        "  print(\"is_mastercard('6911600873502604')\"  ,is_mastercard(\"6911600873502604\"))\n",
        "  print(\"is_mastercard('1234567890')\",  is_mastercard(\"1234567890\"))\n",
        "\n",
        "main()"
      ],
      "metadata": {
        "colab": {
          "base_uri": "https://localhost:8080/"
        },
        "id": "BGkDDQoP4XrD",
        "outputId": "f80ff069-11ec-42e5-dd00-60b64a7d6cca"
      },
      "execution_count": null,
      "outputs": [
        {
          "output_type": "stream",
          "name": "stdout",
          "text": [
            "is_credit('6011000000000004') None\n",
            "is_credit('79927398713') None\n",
            "is_credit('30000000000004') None\n",
            "is_credit('6911600873502604') None\n",
            "is_credit('1234567890') None\n"
          ]
        }
      ]
    }
  ]
}