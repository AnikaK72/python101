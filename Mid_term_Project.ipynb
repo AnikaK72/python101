{
  "nbformat": 4,
  "nbformat_minor": 0,
  "metadata": {
    "colab": {
      "provenance": [],
      "toc_visible": true,
      "authorship_tag": "ABX9TyNJz1i0T3AGRmn2YidxD4KU",
      "include_colab_link": true
    },
    "kernelspec": {
      "name": "python3",
      "display_name": "Python 3"
    },
    "language_info": {
      "name": "python"
    }
  },
  "cells": [
    {
      "cell_type": "markdown",
      "metadata": {
        "id": "view-in-github",
        "colab_type": "text"
      },
      "source": [
        "<a href=\"https://colab.research.google.com/github/AnikaK72/python101/blob/main/Mid_term_Project.ipynb\" target=\"_parent\"><img src=\"https://colab.research.google.com/assets/colab-badge.svg\" alt=\"Open In Colab\"/></a>"
      ]
    },
    {
      "cell_type": "code",
      "source": [
        "def is_credit(card_number):\n",
        "      card_number == int(input(\"Enter the credit card number: \"))\n",
        "      x = []\n",
        "      num_digits = len(card_number)\n",
        "      for num_digits in reversed(card_number):\n",
        "        if (num_digits % 2) == 0:\n",
        "          if num_digits * 2 < 10:\n",
        "            sum_digits = 0\n",
        "            for i in num_digits:\n",
        "              sum_digits += int(i)\n",
        "        else:\n",
        "          list_digits = num_digits + x\n",
        "          if list_digits % 10:\n",
        "              return True\n",
        "          else:\n",
        "              return False\n",
        "      pass\n",
        "\n",
        "def is_visa(card_number):\n",
        "      int(input(\"Enter the credit card number: \"))\n",
        "      num_digits = len(card_number)\n",
        "      if card_number[0] == \"4\" and num_digits == 16 or 13:\n",
        "          print(\"VISA card is valid\")\n",
        "      else:\n",
        "          print(\"INVALID\")\n",
        "      pass\n",
        "\n",
        "\n",
        "def is_mastercard(card_number):\n",
        "      int(input(\"Enter the credit card number: \"))\n",
        "      num_digits = len(card_number)\n",
        "      if card_number[0] == \"5\" and num_digits == 16:\n",
        "          print(\"MASTERCARD card is valid\")\n",
        "\n",
        "      else:\n",
        "          print(\"INVALID\")\n",
        "      pass\n",
        "def main():\n",
        "  print(\"is_credit('6011000000000004')\", is_credit(\"6011000000000004\"))\n",
        "  print(\"is_credit('79927398713')\", is_credit(\"79927398713\"))\n",
        "  print(\"is_credit('30000000000004')\" ,is_credit(\"30000000000004\"))\n",
        "  print(\"is_credit('6911600873502604')\"  ,is_credit(\"6911600873502604\"))\n",
        "  print(\"is_credit('1234567890')\",  is_credit(\"1234567890\"))\n",
        "\n",
        "  print(\"is_visa('6011000000000004')\",is_visa(\"6011000000000004\"))\n",
        "  print(\"is_visa('79927398713')\", is_visa(\"79927398713\"))\n",
        "  print(\"is_visa('30000000000004')\" ,is_visa(\"30000000000004\"))\n",
        "  print(\"is_visa('6911600873502604')\"  ,is_visa(\"6911600873502604\"))\n",
        "  print(\"is_visa('1234567890')\",  is_visa(\"1234567890\"))\n",
        "\n",
        "  print(\"is_mastercard('6011000000000004')\",is_mastercard(\"6011000000000004\"))\n",
        "  print(\"is_mastercard('79927398713')\", is_mastercard(\"79927398713\"))\n",
        "  print(\"is_mastercard('30000000000004')\" ,is_mastercard(\"30000000000004\"))\n",
        "  print(\"is_mastercard('6911600873502604')\"  ,is_mastercard(\"6911600873502604\"))\n",
        "  print(\"is_mastercard('1234567890')\",  is_mastercard(\"1234567890\"))\n",
        "main()"
      ],
      "metadata": {
        "id": "BGkDDQoP4XrD"
      },
      "execution_count": null,
      "outputs": []
    }
  ]
}